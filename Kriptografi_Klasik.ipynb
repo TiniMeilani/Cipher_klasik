{
  "nbformat": 4,
  "nbformat_minor": 0,
  "metadata": {
    "colab": {
      "provenance": []
    },
    "kernelspec": {
      "name": "python3",
      "display_name": "Python 3"
    },
    "language_info": {
      "name": "python"
    }
  },
  "cells": [
    {
      "cell_type": "markdown",
      "source": [
        "Caesar Cipher"
      ],
      "metadata": {
        "id": "rRoCzRloU5Lj"
      }
    },
    {
      "cell_type": "code",
      "source": [
        "def caesar_encrypt(text, shift):\n",
        "    result = \"\"\n",
        "    for char in text:\n",
        "        if char.isalpha():\n",
        "            base = ord('A') if char.isupper() else ord('a')\n",
        "            result += chr((ord(char) - base + shift) % 26 + base)\n",
        "        else:\n",
        "            result += char\n",
        "    return result\n",
        "\n",
        "print(caesar_encrypt('HELLO', 3))\n"
      ],
      "metadata": {
        "colab": {
          "base_uri": "https://localhost:8080/"
        },
        "id": "DVN_hkQKVLDZ",
        "outputId": "6d84197f-e7ca-42bd-b445-584352757083"
      },
      "execution_count": null,
      "outputs": [
        {
          "output_type": "stream",
          "name": "stdout",
          "text": [
            "KHOOR\n"
          ]
        }
      ]
    },
    {
      "cell_type": "markdown",
      "source": [
        "Vigenère Cipher"
      ],
      "metadata": {
        "id": "D8wtp9HXVNyC"
      }
    },
    {
      "cell_type": "code",
      "source": [
        "def vigenere_encrypt(plain, key):\n",
        "    key = key.upper()\n",
        "    result = ''\n",
        "    for i, char in enumerate(plain.upper()):\n",
        "        if char.isalpha():\n",
        "            shift = ord(key[i % len(key)]) - 65\n",
        "            result += chr((ord(char) - 65 + shift) % 26 + 65)\n",
        "        else:\n",
        "            result += char\n",
        "    return result\n",
        "\n",
        "print(vigenere_encrypt('ATTACKATDAWN', 'LEMON'))\n"
      ],
      "metadata": {
        "colab": {
          "base_uri": "https://localhost:8080/"
        },
        "id": "xkrOse45VTbf",
        "outputId": "88ce66e8-7eda-42d2-8403-c9d456610056"
      },
      "execution_count": null,
      "outputs": [
        {
          "output_type": "stream",
          "name": "stdout",
          "text": [
            "LXFOPVEFRNHR\n"
          ]
        }
      ]
    },
    {
      "cell_type": "markdown",
      "source": [
        "Affine Cipher"
      ],
      "metadata": {
        "id": "wO2jYwUqVqIu"
      }
    },
    {
      "cell_type": "code",
      "source": [
        "def affine_encrypt(text, a, b):\n",
        "    result = ''\n",
        "    for char in text.upper():\n",
        "        if char.isalpha():\n",
        "            result += chr(((a * (ord(char) - 65) + b) % 26) + 65)\n",
        "        else:\n",
        "            result += char\n",
        "    return result\n",
        "\n",
        "print(affine_encrypt('HELLO', 5, 8))\n"
      ],
      "metadata": {
        "colab": {
          "base_uri": "https://localhost:8080/"
        },
        "id": "S8aFs4cpVsbt",
        "outputId": "23b829a3-b267-4a4d-f203-2714857a0166"
      },
      "execution_count": null,
      "outputs": [
        {
          "output_type": "stream",
          "name": "stdout",
          "text": [
            "RCLLA\n"
          ]
        }
      ]
    },
    {
      "cell_type": "markdown",
      "source": [
        "Playfair Chiper"
      ],
      "metadata": {
        "id": "VR1Hu6ScV1_f"
      }
    },
    {
      "cell_type": "code",
      "source": [
        "def generate_table(key):\n",
        "    alphabet = 'ABCDEFGHIKLMNOPQRSTUVWXYZ'\n",
        "    table = ''\n",
        "    for c in key.upper() + alphabet:\n",
        "        if c not in table:\n",
        "            table += c\n",
        "    return [table[i:i+5] for i in range(0, 25, 5)]\n",
        "\n",
        "table = generate_table('KEYWORD')\n",
        "for row in table:\n",
        "    print(row)\n"
      ],
      "metadata": {
        "colab": {
          "base_uri": "https://localhost:8080/"
        },
        "id": "MhaamKMrV6EN",
        "outputId": "ade4debe-f48d-475f-bf44-cd64f641b6ea"
      },
      "execution_count": null,
      "outputs": [
        {
          "output_type": "stream",
          "name": "stdout",
          "text": [
            "KEYWO\n",
            "RDABC\n",
            "FGHIL\n",
            "MNPQS\n",
            "TUVXZ\n"
          ]
        }
      ]
    },
    {
      "cell_type": "markdown",
      "source": [
        "Hill Chiper"
      ],
      "metadata": {
        "id": "3gVeV08lWSFc"
      }
    },
    {
      "cell_type": "code",
      "source": [
        "import numpy as np\n",
        "\n",
        "def hill_encrypt(text, key):\n",
        "    text = text.upper().replace(' ', '')\n",
        "    n = int(len(key) ** 0.5)\n",
        "    key = np.array(key).reshape(n, n)\n",
        "    result = ''\n",
        "    for i in range(0, len(text), n):\n",
        "        block = [ord(c) - 65 for c in text[i:i+n]]\n",
        "        # jika blok terakhir kurang panjang, tambahkan 'X'\n",
        "        while len(block) < n:\n",
        "            block.append(ord('X') - 65)\n",
        "        cipher = np.dot(key, block) % 26\n",
        "        result += ''.join(chr(c + 65) for c in cipher)\n",
        "    return result\n",
        "\n",
        "print(hill_encrypt('TEST', [3, 3, 2, 5]))\n"
      ],
      "metadata": {
        "colab": {
          "base_uri": "https://localhost:8080/"
        },
        "id": "rptbL5kSWUPX",
        "outputId": "ce451fbc-f82d-4458-e064-e925c0c743bd"
      },
      "execution_count": null,
      "outputs": [
        {
          "output_type": "stream",
          "name": "stdout",
          "text": [
            "RGHB\n"
          ]
        }
      ]
    }
  ]
}